{
  "nbformat": 4,
  "nbformat_minor": 0,
  "metadata": {
    "colab": {
      "provenance": [],
      "authorship_tag": "ABX9TyN5mIKjERPaw8+lEnVk0PE+",
      "include_colab_link": true
    },
    "kernelspec": {
      "name": "python3",
      "display_name": "Python 3"
    },
    "language_info": {
      "name": "python"
    }
  },
  "cells": [
    {
      "cell_type": "markdown",
      "metadata": {
        "id": "view-in-github",
        "colab_type": "text"
      },
      "source": [
        "<a href=\"https://colab.research.google.com/github/4Sheetal/-__task_01/blob/main/Task2_Data_Processing_and_Visualization.ipynb\" target=\"_parent\"><img src=\"https://colab.research.google.com/assets/colab-badge.svg\" alt=\"Open In Colab\"/></a>"
      ]
    },
    {
      "cell_type": "markdown",
      "source": [
        "# Task 2: Data Processing and Visualization:\n",
        "##Given a dataset containing information about students' test scores, fetch the data from an API, calculate the average score, and create a bar chart to visualize the data."
      ],
      "metadata": {
        "id": "rnoKQjNbk3qL"
      }
    },
    {
      "cell_type": "code",
      "execution_count": null,
      "metadata": {
        "id": "sPr9aW1izZeq"
      },
      "outputs": [],
      "source": [
        "#Library and module is imported\n",
        "import os   # The os module provides function to interatcting with Operating system\n",
        "import pandas as pd # pd is used for data analysis and data manipulation\n",
        "import ssl # ssl/ TLS functionality in network comunication\n",
        "import matplotlib.pyplot as plt # Visulaisation"
      ]
    },
    {
      "cell_type": "markdown",
      "source": [
        "To perform our task we have imported the required module and library."
      ],
      "metadata": {
        "id": "P_ECLbvwng_0"
      }
    },
    {
      "cell_type": "code",
      "source": [
        "ssl._create_default_https_context = ssl._create_unverified_context   # bypass the ceertificate verification\n",
        "df = pd.read_csv(\"https://api.slingacademy.com/v1/sample-data/files/student-scores.csv\") #\n",
        "print(df.head()) # shows the first rows of data\n",
        "print(df.describe()) # prints the statiscs of the Numerical columns"
      ],
      "metadata": {
        "colab": {
          "base_uri": "https://localhost:8080/"
        },
        "id": "J4jWpre-0UBV",
        "outputId": "1af1ef88-73ab-418a-a0cd-7dad48db43f7"
      },
      "execution_count": null,
      "outputs": [
        {
          "output_type": "stream",
          "name": "stdout",
          "text": [
            "   id first_name last_name                                  email  gender  \\\n",
            "0   1       Paul     Casey         paul.casey.1@gslingacademy.com    male   \n",
            "1   2   Danielle  Sandoval  danielle.sandoval.2@gslingacademy.com  female   \n",
            "2   3       Tina   Andrews       tina.andrews.3@gslingacademy.com  female   \n",
            "3   4       Tara     Clark         tara.clark.4@gslingacademy.com  female   \n",
            "4   5    Anthony    Campos     anthony.campos.5@gslingacademy.com    male   \n",
            "\n",
            "   part_time_job  absence_days  extracurricular_activities  \\\n",
            "0          False             3                       False   \n",
            "1          False             2                       False   \n",
            "2          False             9                        True   \n",
            "3          False             5                       False   \n",
            "4          False             5                       False   \n",
            "\n",
            "   weekly_self_study_hours   career_aspiration  math_score  history_score  \\\n",
            "0                       27              Lawyer          73             81   \n",
            "1                       47              Doctor          90             86   \n",
            "2                       13  Government Officer          81             97   \n",
            "3                        3              Artist          71             74   \n",
            "4                       10             Unknown          84             77   \n",
            "\n",
            "   physics_score  chemistry_score  biology_score  english_score  \\\n",
            "0             93               97             63             80   \n",
            "1             96              100             90             88   \n",
            "2             95               96             65             77   \n",
            "3             88               80             89             63   \n",
            "4             65               65             80             74   \n",
            "\n",
            "   geography_score  \n",
            "0               87  \n",
            "1               90  \n",
            "2               94  \n",
            "3               86  \n",
            "4               76  \n",
            "                id  absence_days  weekly_self_study_hours   math_score  \\\n",
            "count  2000.000000   2000.000000              2000.000000  2000.000000   \n",
            "mean   1000.500000      3.665500                17.755500    83.452000   \n",
            "std     577.494589      2.629271                12.129604    13.224906   \n",
            "min       1.000000      0.000000                 0.000000    40.000000   \n",
            "25%     500.750000      2.000000                 5.000000    77.000000   \n",
            "50%    1000.500000      3.000000                18.000000    87.000000   \n",
            "75%    1500.250000      5.000000                28.000000    93.000000   \n",
            "max    2000.000000     10.000000                50.000000   100.000000   \n",
            "\n",
            "       history_score  physics_score  chemistry_score  biology_score  \\\n",
            "count    2000.000000    2000.000000      2000.000000     2000.00000   \n",
            "mean       80.332000      81.336500        79.995000       79.58150   \n",
            "std        12.736046      12.539453        12.777895       13.72219   \n",
            "min        50.000000      50.000000        50.000000       30.00000   \n",
            "25%        69.750000      71.000000        69.000000       69.00000   \n",
            "50%        82.000000      83.000000        81.000000       81.00000   \n",
            "75%        91.000000      92.000000        91.000000       91.00000   \n",
            "max       100.000000     100.000000       100.000000      100.00000   \n",
            "\n",
            "       english_score  geography_score  \n",
            "count    2000.000000      2000.000000  \n",
            "mean       81.277500        80.888000  \n",
            "std        12.027087        11.637705  \n",
            "min        50.000000        60.000000  \n",
            "25%        72.000000        71.000000  \n",
            "50%        83.000000        81.000000  \n",
            "75%        91.000000        91.000000  \n",
            "max        99.000000       100.000000  \n"
          ]
        }
      ]
    },
    {
      "cell_type": "markdown",
      "source": [
        "The line `ssl._create_default_https_context = ssl._create_unverified_context` bypasses the certificate verification. pandas library is used to convert `csv` file into DataFrame. We get the tabular form of the data.\n"
      ],
      "metadata": {
        "id": "ONA6sTqAm6kb"
      }
    },
    {
      "cell_type": "code",
      "source": [
        "# calculate the average score\n",
        "df['AverageScore'] = df[[ 'math_score','history_score','physics_score','chemistry_score','biology_score','english_score']].mean(axis=1)"
      ],
      "metadata": {
        "id": "n9pg00x609j4"
      },
      "execution_count": null,
      "outputs": []
    },
    {
      "cell_type": "code",
      "source": [
        "# Visualisation\n",
        "fig = plt.figure(figsize = (10, 5)) # define the deimensioon of figure\n",
        "# creating the bar plot\n",
        "plt.bar(df['id'], df['AverageScore'],color ='maroon',width = 0.4)\n",
        "plt.xlabel(\"id\") # Label the x-axis\n",
        "plt.ylabel(\"AverageScore\") # Label the y-axis\n",
        "plt.title(\"Student_average_score\") # Label the title\n",
        "plt.show() # Display the bar graph\n"
      ],
      "metadata": {
        "colab": {
          "base_uri": "https://localhost:8080/",
          "height": 487
        },
        "id": "4Lq1xMaT3sDJ",
        "outputId": "3634c5d4-9e68-4d11-afd0-2bf7982847a2"
      },
      "execution_count": null,
      "outputs": [
        {
          "output_type": "display_data",
          "data": {
            "text/plain": [
              "<Figure size 1000x500 with 1 Axes>"
            ],
            "image/png": "[encoded data removed]"
          },
          "metadata": {}
        }
      ]
    }
  ]
}